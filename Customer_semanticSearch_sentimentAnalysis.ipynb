{
 "cells": [
  {
   "cell_type": "code",
   "execution_count": 1,
   "metadata": {},
   "outputs": [],
   "source": [
    "%matplotlib inline\n",
    "%run ./bella/bellamodel/parse.py\n",
    "bp = BellaParse()\n",
    "%run ./bella/bellamodel/search.py\n",
    "bs = BellaSearch()\n",
    "import warnings\n",
    "warnings.filterwarnings('ignore')"
   ]
  },
  {
   "cell_type": "code",
   "execution_count": 13,
   "metadata": {},
   "outputs": [
    {
     "name": "stdout",
     "output_type": "stream",
     "text": [
      "/Users/Nan/insight/bella\n"
     ]
    }
   ],
   "source": [
    "cd /Users/Nan/insight/bella/"
   ]
  },
  {
   "cell_type": "code",
   "execution_count": 20,
   "metadata": {},
   "outputs": [],
   "source": [
    "fp='./bella/bellascraper/bellascraper/data/review_serum.tsv'\n",
    "reviews_short = bp.parse_reviewTable(fp, products='all')\n",
    "#remove I used, I want sentences, non-informative\n",
    "#sense_reviews = bp.remove_nonsense(reviews_short['review'].values, \n",
    "#                                   nonsense_sample=bp.nonsense_samples)"
   ]
  },
  {
   "cell_type": "code",
   "execution_count": 22,
   "metadata": {},
   "outputs": [],
   "source": [
    "reviews_short['senti_score'] = reviews_short['review'].apply(bs.sentiment)"
   ]
  },
  {
   "cell_type": "code",
   "execution_count": 24,
   "metadata": {},
   "outputs": [],
   "source": [
    "reviews_short.to_csv('./bella/bellascraper/bellascraper/data/review_sentiment.tsv', \n",
    "                          sep='\\t', index=False)"
   ]
  },
  {
   "cell_type": "code",
   "execution_count": 8,
   "metadata": {},
   "outputs": [],
   "source": [
    "#remove neutral reviews to save time in feature score calculation\n",
    "df = reviews_short[reviews_short['senti_score'] != 0]\n",
    "df = df.drop_duplicates(subset=['review', 'r_product'])\n",
    "fp = './bella/bellaflask/tmp/review_sentiment.df.pk'\n",
    "with open(fp, 'wb') as f:\n",
    "    pickle.dump(df, f)"
   ]
  },
  {
   "cell_type": "code",
   "execution_count": 9,
   "metadata": {},
   "outputs": [],
   "source": [
    "#correct misspelling\n",
    "#stop as it took too long\n",
    "#df['review'] = map(lambda s: TextBlob(s).correct(), df['review'].values)"
   ]
  },
  {
   "cell_type": "code",
   "execution_count": 7,
   "metadata": {
    "collapsed": true
   },
   "outputs": [],
   "source": [
    "#save concise version of review dataframe for web app\n",
    "df['review'] = df['review'].apply(bp.wordToken)\n",
    "df['n_word'] = df['review'].apply(len)\n",
    "df = df[df['n_word'] > 2]\n",
    "df = df.drop(['n_word'], axis=1)\n",
    "filename = './bella/bellaflask/tmp/review_sentiment.df.pk'\n",
    "with open(filename, 'wb') as f:\n",
    "     pickle.dump(df, f)"
   ]
  },
  {
   "cell_type": "code",
   "execution_count": 50,
   "metadata": {},
   "outputs": [
    {
     "data": {
      "text/plain": [
       "33341"
      ]
     },
     "execution_count": 50,
     "metadata": {},
     "output_type": "execute_result"
    }
   ],
   "source": [
    "#Calculate manual reading time\n",
    "#average reading speed of normal human being 200 words/minute (http://www.readingsoft.com/)\n",
    "reviews_short['n_word'] = reviews_short['review'].apply(lambda t: len(t.split(' ')))\n",
    "reviews_short['n_word'].sum()/200"
   ]
  },
  {
   "cell_type": "code",
   "execution_count": 10,
   "metadata": {},
   "outputs": [],
   "source": [
    "#remove non-ascii, correct spelling, remove stop word, stemming, lemmitize, normalize\n",
    "#clean_reviews = map(bp.clean, reviews_short['review'].values)\n",
    "#use clean reviews, roots cannot match with user's input"
   ]
  },
  {
   "cell_type": "code",
   "execution_count": 15,
   "metadata": {},
   "outputs": [
    {
     "data": {
      "text/plain": [
       "[(u'ageing', 0.5884653329849243),\n",
       " (u'polyphenol', 0.5307056903839111),\n",
       " (u'crease', 0.5097635984420776),\n",
       " (u'aging', 0.5093438625335693),\n",
       " (u'elevens', 0.5073592066764832),\n",
       " (u'broad', 0.5029598474502563),\n",
       " (u'oxidants', 0.46808359026908875),\n",
       " (u'neuropeptide', 0.46676844358444214),\n",
       " (u'spectrum', 0.465499609708786),\n",
       " (u'ager', 0.4490583539009094)]"
      ]
     },
     "execution_count": 15,
     "metadata": {},
     "output_type": "execute_result"
    }
   ],
   "source": [
    "#train word2vec with sephora reviews\n",
    "token_reviews = map(gensim.utils.simple_preprocess, reviews_short['review'].values)\n",
    "w2v, w2v_volcab, w2v_vectors = bs.w2v_model(token_reviews, size=150, window=10)\n",
    "w2v.wv.most_similar(positive='wrinkle')"
   ]
  },
  {
   "cell_type": "code",
   "execution_count": 25,
   "metadata": {},
   "outputs": [],
   "source": [
    "w2v.save(\"word2vec.model\")"
   ]
  },
  {
   "cell_type": "code",
   "execution_count": 20,
   "metadata": {},
   "outputs": [],
   "source": [
    "#save word2vec model\n",
    "filename = './bella/bellaflask/tmp/word2vec.pk'\n",
    "with open(filename, 'wb') as f:\n",
    "     pickle.dump(w2v, f)"
   ]
  },
  {
   "cell_type": "code",
   "execution_count": 18,
   "metadata": {},
   "outputs": [
    {
     "data": {
      "text/plain": [
       "[(u'unwrinkle', 0.9311561584472656),\n",
       " (u'crinkle', 0.9180015325546265),\n",
       " (u'wrinklesthe', 0.8754483461380005),\n",
       " (u'wrinkly', 0.8464183807373047),\n",
       " (u'wrinkled', 0.8439193964004517),\n",
       " (u'wrinkleresist', 0.8412514925003052),\n",
       " (u'winkle', 0.8111948370933533),\n",
       " (u'sprinkle', 0.8075394630432129),\n",
       " (u'wringkle', 0.8065093755722046),\n",
       " (u'wrinke', 0.796950101852417)]"
      ]
     },
     "execution_count": 18,
     "metadata": {},
     "output_type": "execute_result"
    }
   ],
   "source": [
    "#example of fasttext\n",
    "ft, ft_volcab, ft_vectors = bs.fasttext_model(token_reviews, size=150, window=10)\n",
    "ft.wv.most_similar(positive='wrinkle')"
   ]
  },
  {
   "cell_type": "code",
   "execution_count": 66,
   "metadata": {},
   "outputs": [],
   "source": [
    "ft.save(\"fasttext.model\")"
   ]
  },
  {
   "cell_type": "code",
   "execution_count": 21,
   "metadata": {
    "collapsed": true
   },
   "outputs": [],
   "source": [
    "#save fast text model\n",
    "filename = './bella/bellaflask/tmp/fasttext.pk'\n",
    "with open(filename, 'wb') as f:\n",
    "     pickle.dump(ft, f)"
   ]
  },
  {
   "cell_type": "code",
   "execution_count": 41,
   "metadata": {},
   "outputs": [],
   "source": [
    "#remove non-ascii in product info, remove zero review products and\n",
    "#pickle file\n",
    "df = pd.read_table('./bella/bellascraper/bellascraper/data/product_info.tsv')\n",
    "df = df[df['p_nReviews'] > 0]\n",
    "df = bp.parse_product(df)\n",
    "regex = re.compile('[^a-zA-Z+.!%/\\- ]')\n",
    "columns = ['p_Brand', 'p_Name', 'p_function']\n",
    "for c in columns:\n",
    "    product_df[c] = map(lambda text: regex.sub('', text), df[c].values)\n",
    "for c in ['p_category', 'p_ID', 'p_link', 'p_image', 'p_stars', 'p_nReviews', 'p_description']:\n",
    "    product_df[c] = df[c].values"
   ]
  },
  {
   "cell_type": "code",
   "execution_count": 44,
   "metadata": {
    "collapsed": true
   },
   "outputs": [],
   "source": [
    "filename = './bella/bellaflask/tmp/product_info.df.pk'\n",
    "with open(filename, 'wb') as f:\n",
    "     pickle.dump(product_df, f)"
   ]
  },
  {
   "cell_type": "code",
   "execution_count": 43,
   "metadata": {},
   "outputs": [
    {
     "data": {
      "text/html": [
       "<div>\n",
       "<style scoped>\n",
       "    .dataframe tbody tr th:only-of-type {\n",
       "        vertical-align: middle;\n",
       "    }\n",
       "\n",
       "    .dataframe tbody tr th {\n",
       "        vertical-align: top;\n",
       "    }\n",
       "\n",
       "    .dataframe thead th {\n",
       "        text-align: right;\n",
       "    }\n",
       "</style>\n",
       "<table border=\"1\" class=\"dataframe\">\n",
       "  <thead>\n",
       "    <tr style=\"text-align: right;\">\n",
       "      <th></th>\n",
       "      <th>p_Brand</th>\n",
       "      <th>p_Name</th>\n",
       "      <th>p_function</th>\n",
       "      <th>p_category</th>\n",
       "      <th>p_ID</th>\n",
       "      <th>p_link</th>\n",
       "      <th>p_image</th>\n",
       "      <th>p_stars</th>\n",
       "      <th>p_nReviews</th>\n",
       "      <th>p_description</th>\n",
       "    </tr>\n",
       "  </thead>\n",
       "  <tbody>\n",
       "    <tr>\n",
       "      <th>0</th>\n",
       "      <td>Tatcha</td>\n",
       "      <td>Violet-C Brightening Serum % Vitamin C + % AHA</td>\n",
       "      <td>Dullness and Uneven Texture Fine Lines and Wr...</td>\n",
       "      <td>Face Serums</td>\n",
       "      <td>P439058</td>\n",
       "      <td>https://www.sephora.com/product/violet-c-brigh...</td>\n",
       "      <td>https://www.sephora.com/productimages/sku/s218...</td>\n",
       "      <td>4.7867</td>\n",
       "      <td>483</td>\n",
       "      <td>What it is: A 20 percent vitamin C and 10 perc...</td>\n",
       "    </tr>\n",
       "    <tr>\n",
       "      <th>1</th>\n",
       "      <td>Drunk Elephant</td>\n",
       "      <td>Rise + Glow Duo</td>\n",
       "      <td>- Dryness - Dullness and uneven texture - Los...</td>\n",
       "      <td>Face Serums</td>\n",
       "      <td>P414671</td>\n",
       "      <td>https://www.sephora.com/product/rise-and-glow-...</td>\n",
       "      <td>https://www.sephora.com/productimages/sku/s186...</td>\n",
       "      <td>3.9919</td>\n",
       "      <td>493</td>\n",
       "      <td>Which skin type is it good for? ��� Normal ���...</td>\n",
       "    </tr>\n",
       "    <tr>\n",
       "      <th>2</th>\n",
       "      <td>Murad</td>\n",
       "      <td>Retinol Youth Renewal Serum</td>\n",
       "      <td>- Fine lines and wrinkles- Uneven skin tone- L...</td>\n",
       "      <td>Face Serums</td>\n",
       "      <td>P411365</td>\n",
       "      <td>https://www.sephora.com/product/retinol-youth-...</td>\n",
       "      <td>https://www.sephora.com/productimages/sku/s185...</td>\n",
       "      <td>4.2308</td>\n",
       "      <td>78</td>\n",
       "      <td>Which skin type is it good for?��� Normal��� O...</td>\n",
       "    </tr>\n",
       "    <tr>\n",
       "      <th>3</th>\n",
       "      <td>Dr. Jart+</td>\n",
       "      <td>Cicapair  Tiger Grass Color Correcting Treatme...</td>\n",
       "      <td>- Redness - Uneven skin tone - Acne and blemi...</td>\n",
       "      <td>Face Serums</td>\n",
       "      <td>P411540</td>\n",
       "      <td>https://www.sephora.com/product/cicapair-tiger...</td>\n",
       "      <td>https://www.sephora.com/productimages/sku/s185...</td>\n",
       "      <td>4.2233</td>\n",
       "      <td>1581</td>\n",
       "      <td>Which skin type is it good for? ��� Normal ���...</td>\n",
       "    </tr>\n",
       "    <tr>\n",
       "      <th>4</th>\n",
       "      <td>Kiehls Since</td>\n",
       "      <td>Midnight Recovery Concentrate</td>\n",
       "      <td>- Dryness - Dullness and uneven texture</td>\n",
       "      <td>Face Serums</td>\n",
       "      <td>P421998</td>\n",
       "      <td>https://www.sephora.com/product/midnight-recov...</td>\n",
       "      <td>https://www.sephora.com/productimages/sku/s198...</td>\n",
       "      <td>4.3987</td>\n",
       "      <td>464</td>\n",
       "      <td>Which skin type is it good for?��� Normal��� O...</td>\n",
       "    </tr>\n",
       "  </tbody>\n",
       "</table>\n",
       "</div>"
      ],
      "text/plain": [
       "          p_Brand                                             p_Name  \\\n",
       "0          Tatcha     Violet-C Brightening Serum % Vitamin C + % AHA   \n",
       "1  Drunk Elephant                                    Rise + Glow Duo   \n",
       "2           Murad                        Retinol Youth Renewal Serum   \n",
       "3       Dr. Jart+  Cicapair  Tiger Grass Color Correcting Treatme...   \n",
       "4   Kiehls Since                       Midnight Recovery Concentrate   \n",
       "\n",
       "                                          p_function   p_category     p_ID  \\\n",
       "0   Dullness and Uneven Texture Fine Lines and Wr...  Face Serums  P439058   \n",
       "1   - Dryness - Dullness and uneven texture - Los...  Face Serums  P414671   \n",
       "2  - Fine lines and wrinkles- Uneven skin tone- L...  Face Serums  P411365   \n",
       "3   - Redness - Uneven skin tone - Acne and blemi...  Face Serums  P411540   \n",
       "4           - Dryness - Dullness and uneven texture   Face Serums  P421998   \n",
       "\n",
       "                                              p_link  \\\n",
       "0  https://www.sephora.com/product/violet-c-brigh...   \n",
       "1  https://www.sephora.com/product/rise-and-glow-...   \n",
       "2  https://www.sephora.com/product/retinol-youth-...   \n",
       "3  https://www.sephora.com/product/cicapair-tiger...   \n",
       "4  https://www.sephora.com/product/midnight-recov...   \n",
       "\n",
       "                                             p_image  p_stars  p_nReviews  \\\n",
       "0  https://www.sephora.com/productimages/sku/s218...   4.7867         483   \n",
       "1  https://www.sephora.com/productimages/sku/s186...   3.9919         493   \n",
       "2  https://www.sephora.com/productimages/sku/s185...   4.2308          78   \n",
       "3  https://www.sephora.com/productimages/sku/s185...   4.2233        1581   \n",
       "4  https://www.sephora.com/productimages/sku/s198...   4.3987         464   \n",
       "\n",
       "                                       p_description  \n",
       "0  What it is: A 20 percent vitamin C and 10 perc...  \n",
       "1  Which skin type is it good for? ��� Normal ���...  \n",
       "2  Which skin type is it good for?��� Normal��� O...  \n",
       "3  Which skin type is it good for? ��� Normal ���...  \n",
       "4  Which skin type is it good for?��� Normal��� O...  "
      ]
     },
     "execution_count": 43,
     "metadata": {},
     "output_type": "execute_result"
    }
   ],
   "source": [
    "product_df.head()"
   ]
  },
  {
   "cell_type": "code",
   "execution_count": 28,
   "metadata": {},
   "outputs": [],
   "source": [
    "model_fp = './bella/bellaflask/tmp/word2vec.pk'\n",
    "with open(model_fp,'rb') as f:\n",
    "    w2v = pickle.load(f)\n",
    "l = []\n",
    "l += w2v.wv.most_similar(positive='wrinkle')"
   ]
  },
  {
   "cell_type": "code",
   "execution_count": 27,
   "metadata": {},
   "outputs": [],
   "source": [
    "#compare bella results and sephora quiz results for aging\n",
    "sephora = ['P427420', 'P432668', 'P427418']\n",
    "bella = ['P433970', 'P3550', 'P379510']\n",
    "review_fp = './bella/bellascraper/bellascraper/data/review_serum.tsv'\n",
    "reviews = pd.read_table(review_fp)\n",
    "customer_fp = './bella/bellascraper/bellascraper/data/customer_serum.tsv'\n",
    "customers = pd.read_table(customer_fp)\n",
    "customers = customers.drop_duplicates('c_name')\n",
    "df = pd.merge(reviews, customers, left_on='r_reviewer', right_on='c_name', how='left')"
   ]
  },
  {
   "cell_type": "code",
   "execution_count": 28,
   "metadata": {},
   "outputs": [],
   "source": [
    "#compare price and ratings\n",
    "product_fp = './bella/bellascraper/bellascraper/data/product_serum.tsv'\n",
    "products = pd.read_table(product_fp)\n",
    "price_rating = pd.merge(reviews, products, left_on='r_product', right_on='p_ID')"
   ]
  },
  {
   "cell_type": "code",
   "execution_count": 31,
   "metadata": {},
   "outputs": [
    {
     "data": {
      "text/html": [
       "<div>\n",
       "<style scoped>\n",
       "    .dataframe tbody tr th:only-of-type {\n",
       "        vertical-align: middle;\n",
       "    }\n",
       "\n",
       "    .dataframe tbody tr th {\n",
       "        vertical-align: top;\n",
       "    }\n",
       "\n",
       "    .dataframe thead th {\n",
       "        text-align: right;\n",
       "    }\n",
       "</style>\n",
       "<table border=\"1\" class=\"dataframe\">\n",
       "  <thead>\n",
       "    <tr style=\"text-align: right;\">\n",
       "      <th></th>\n",
       "      <th>sum_sq</th>\n",
       "      <th>df</th>\n",
       "      <th>F</th>\n",
       "      <th>PR(&gt;F)</th>\n",
       "    </tr>\n",
       "  </thead>\n",
       "  <tbody>\n",
       "    <tr>\n",
       "      <th>p_price</th>\n",
       "      <td>61.583170</td>\n",
       "      <td>1.0</td>\n",
       "      <td>46.499311</td>\n",
       "      <td>9.222296e-12</td>\n",
       "    </tr>\n",
       "    <tr>\n",
       "      <th>Residual</th>\n",
       "      <td>119869.113563</td>\n",
       "      <td>90509.0</td>\n",
       "      <td>NaN</td>\n",
       "      <td>NaN</td>\n",
       "    </tr>\n",
       "  </tbody>\n",
       "</table>\n",
       "</div>"
      ],
      "text/plain": [
       "                 sum_sq       df          F        PR(>F)\n",
       "p_price       61.583170      1.0  46.499311  9.222296e-12\n",
       "Residual  119869.113563  90509.0        NaN           NaN"
      ]
     },
     "execution_count": 31,
     "metadata": {},
     "output_type": "execute_result"
    },
    {
     "data": {
      "image/png": "[encoded data removed]",
      "text/plain": [
       "<Figure size 432x288 with 1 Axes>"
      ]
     },
     "metadata": {},
     "output_type": "display_data"
    }
   ],
   "source": [
    "import seaborn as sns\n",
    "import matplotlib.pyplot as plt\n",
    "import numpy as np\n",
    "plt.figure()\n",
    "sns.set(palette='pastel')\n",
    "sns.set_context('talk', rc = {'lines.linewidth': 1})\n",
    "sns.set_style('white',{'font.family': 'Sans-serif', \\\n",
    "                            'font.Sans-serif': ['Futura']})\n",
    "ax = sns.regplot(x='p_price', y='r_star', data=price_rating, color='green')\n",
    "ax.set( ylabel='Star', xlabel='Price')\n",
    "plt.tight_layout()\n",
    "from statsmodels.formula.api import ols\n",
    "import statsmodels.api as sm\n",
    "lm = ols('r_star~p_price', data=price_rating,).fit()\n",
    "table = sm.stats.anova_lm(lm, typ=2)\n",
    "table"
   ]
  },
  {
   "cell_type": "code",
   "execution_count": 32,
   "metadata": {},
   "outputs": [
    {
     "data": {
      "image/png": "[encoded data removed]",
      "text/plain": [
       "<Figure size 432x288 with 1 Axes>"
      ]
     },
     "metadata": {},
     "output_type": "display_data"
    }
   ],
   "source": [
    "#distribution of product prices in product with different ratings \n",
    "ax = sns.violinplot(x='r_star', y='p_price', data=price_rating,\n",
    "            inner='quartile', color='m')\n",
    "ax.set( xlabel='Star', ylabel='Price')\n",
    "plt.tight_layout()"
   ]
  },
  {
   "cell_type": "markdown",
   "metadata": {},
   "source": [
    "There is no correlation between price and ratings."
   ]
  },
  {
   "cell_type": "code",
   "execution_count": 33,
   "metadata": {},
   "outputs": [],
   "source": [
    "#get customer with aging concern\n",
    "age_filter = ['45to54', 'over54']\n",
    "df_bella = df[df['r_product'].isin(bella) & ((df['c_skinconcerns'] == 'aging') | (df['c_age'].isin(age_filter)))]\n",
    "df_bella['rank'] = df_bella['r_product'].apply(lambda w:bella.index(w)+1)\n",
    "df_bella['machine'] = 'Bella'\n",
    "df_sephora = df[df['r_product'].isin(sephora) & ((df['c_skinconcerns'] == 'aging') | (df['c_age'].isin(age_filter)))]\n",
    "df_sephora['rank'] = df_sephora['r_product'].apply(lambda w:sephora.index(w)+1)\n",
    "df_sephora['machine'] = 'Sephora'"
   ]
  },
  {
   "cell_type": "code",
   "execution_count": 37,
   "metadata": {},
   "outputs": [
    {
     "name": "stdout",
     "output_type": "stream",
     "text": [
      "1th product: statitics 61.01824917288947 p-value 7.606842621971752e-14\n",
      "2th product: statitics 8.285008738546756 p-value 0.004438688481007087\n",
      "3th product: statitics 3.192831146665239 p-value 0.07482962309419587\n"
     ]
    }
   ],
   "source": [
    "import scipy.stats as stats\n",
    "p_value = []\n",
    "for r in range(1, 4):\n",
    "    anova_data0 = search_results[search_results['rank'] == r]\n",
    "    rs = stats.f_oneway(anova_data0[anova_data0['machine'] == 'Bella']['r_star'], \n",
    "               anova_data0[anova_data0['machine'] == 'Sephora']['r_star'])\n",
    "    p = rs.pvalue\n",
    "    sts = rs.statistic\n",
    "    p_value.append(p)\n",
    "    print('%dth product: statitics %s p-value %s' % (r, sts, p))"
   ]
  },
  {
   "cell_type": "code",
   "execution_count": 36,
   "metadata": {},
   "outputs": [
    {
     "data": {
      "text/plain": [
       "rank  machine\n",
       "1     Bella      4.595960\n",
       "      Sephora    3.582090\n",
       "2     Bella      4.954545\n",
       "      Sephora    4.554839\n",
       "3     Bella      4.860000\n",
       "      Sephora    4.752475\n",
       "Name: r_star, dtype: float64"
      ]
     },
     "execution_count": 36,
     "metadata": {},
     "output_type": "execute_result"
    }
   ],
   "source": [
    "plot_df.groupby(['rank', 'machine'])['r_star'].mean()"
   ]
  },
  {
   "cell_type": "code",
   "execution_count": 42,
   "metadata": {},
   "outputs": [
    {
     "name": "stdout",
     "output_type": "stream",
     "text": [
      "['p_value:0.0', 'p_value:0.0', 'p_value:0.07']\n"
     ]
    },
    {
     "data": {
      "image/png": "[encoded data removed]",
      "text/plain": [
       "<Figure size 432x288 with 1 Axes>"
      ]
     },
     "metadata": {},
     "output_type": "display_data"
    }
   ],
   "source": [
    "import seaborn as sns\n",
    "import matplotlib.pyplot as plt\n",
    "import numpy as np\n",
    "\n",
    "search_results = pd.concat([df_bella, df_sephora])\n",
    "plot_df = search_results[search_results['rank'] < 6]\n",
    "r_dic = {1:'Best', 2:'2nd', 3:'3rd'}\n",
    "plot_df['Rank'] = plot_df['rank'].apply(lambda r: r_dic[r])\n",
    "medians = plot_df.groupby(['machine'])['r_star'].median().values\n",
    "median_labels = [str(np.round(s, 2)) for s in medians]\n",
    "pvalue_labels = [np.round(p, 2) for p in p_value]\n",
    "pvalue_labels = ['p_value:' + str(p) for p in pvalue_labels]\n",
    "print(pvalue_labels)\n",
    "\n",
    "plt.figure()\n",
    "sns.set(palette='pastel')\n",
    "sns.set_context('talk', rc = {'lines.linewidth': 1, 'figure.figsize': (20,5)})\n",
    "sns.set_style('white',{'font.family': 'Sans-serif', \\\n",
    "                            'font.Sans-serif': ['Futura']})\n",
    "ax = sns.violinplot(x='Rank', y='r_star',\n",
    "            hue='machine', data=plot_df,\n",
    "            palette=['m', 'g'],\n",
    "            inner='box',\n",
    "            order=['Best', '2nd', '3rd']\n",
    "            )\n",
    "\n",
    "ax.legend(frameon=False, loc='lower center', ncol=2)\n",
    "ax.set( ylabel='Stars',\n",
    "        xlabel='Reccomendation Rank',\n",
    "        title='Ratings from Customers Concerned about Aging')\n",
    "pos = range(len(pvalue_labels))\n",
    "\n",
    "for tick,label in zip(pos,ax.get_xticklabels()):\n",
    "    ax.text(pos[tick], 6, pvalue_labels[tick], \n",
    "            horizontalalignment='center', size='x-small', color='black', weight='semibold')"
   ]
  },
  {
   "cell_type": "code",
   "execution_count": 43,
   "metadata": {},
   "outputs": [
    {
     "name": "stdout",
     "output_type": "stream",
     "text": [
      "machine\n",
      "Bella      4.762195\n",
      "Sephora    4.271795\n",
      "Name: r_star, dtype: float64\n"
     ]
    },
    {
     "data": {
      "text/plain": [
       "F_onewayResult(statistic=59.45639393099498, pvalue=3.377294829820281e-14)"
      ]
     },
     "execution_count": 43,
     "metadata": {},
     "output_type": "execute_result"
    }
   ],
   "source": [
    "anova_data = search_results[search_results['rank'] < 4]\n",
    "print(anova_data.groupby('machine')['r_star'].mean())\n",
    "stats.f_oneway(anova_data[anova_data['machine'] == 'Bella']['r_star'], \n",
    "               anova_data[anova_data['machine'] == 'Sephora']['r_star'])"
   ]
  },
  {
   "cell_type": "code",
   "execution_count": 29,
   "metadata": {},
   "outputs": [
    {
     "name": "stdout",
     "output_type": "stream",
     "text": [
      "(20866, 7)\n",
      "(171, 15)\n",
      "(382, 15)\n"
     ]
    }
   ],
   "source": [
    "#df.shape[0]  == reviews.shape[0]\n",
    "print(customers.shape)\n",
    "print(df_bella.shape)\n",
    "print(df_sephora.shape)"
   ]
  },
  {
   "cell_type": "code",
   "execution_count": 3,
   "metadata": {},
   "outputs": [],
   "source": [
    "fp = './bella/bellaflask/tmp/review_sentiment.df.pk'\n",
    "with open(fp, 'rb') as f:\n",
    "     review_df = pickle.load(f)\n",
    "fp = './bella/bellaflask/tmp/product_info.df.pk'\n",
    "with open(fp, 'rb') as f:\n",
    "     product_df = pickle.load(f)"
   ]
  },
  {
   "cell_type": "code",
   "execution_count": 5,
   "metadata": {},
   "outputs": [],
   "source": [
    "df = pd.merge(review_df, product_df, left_on='r_product', right_on='p_ID', how='left')"
   ]
  },
  {
   "cell_type": "code",
   "execution_count": 6,
   "metadata": {},
   "outputs": [
    {
     "name": "stdout",
     "output_type": "stream",
     "text": [
      "(102353, 6)\n",
      "(365, 10)\n",
      "(102353, 16)\n"
     ]
    }
   ],
   "source": [
    "print(review_df.shape)\n",
    "print(product_df.shape)\n",
    "print(df.shape)"
   ]
  },
  {
   "cell_type": "code",
   "execution_count": 11,
   "metadata": {},
   "outputs": [],
   "source": [
    "filename = './bella/bellaflask/tmp/review_sentiment_product_info.df.pk'\n",
    "with open(filename, 'wb') as f:\n",
    "     pickle.dump(df, f)"
   ]
  },
  {
   "cell_type": "code",
   "execution_count": 12,
   "metadata": {
    "collapsed": true
   },
   "outputs": [],
   "source": [
    "fp = './bella/bellaflask/tmp/product_info.df.pk'\n",
    "with open(fp, 'wb') as f:\n",
    "     pickle.dump(product_df, f)"
   ]
  },
  {
   "cell_type": "code",
   "execution_count": 23,
   "metadata": {},
   "outputs": [
    {
     "data": {
      "text/plain": [
       "[{'p_Brand': 'Lancer',\n",
       "  'p_Name': 'Advanced Retinol Treatment',\n",
       "  'p_function': '- Fine lines and wrinkles- Dullness and uneven texture- Loss of firmness and elasticity',\n",
       "  'p_image': 'https://www.sephora.com/productimages/sku/s2126001-main-grid.jpg',\n",
       "  'p_link': 'https://www.sephora.com/product/advanced-retinol-treatment-P433970'},\n",
       " {'p_Brand': 'Dr. Brandt Skincare',\n",
       "  'p_Name': 'MAGNETIGHT Age-Defier Mask',\n",
       "  'p_function': ' - Dullness and uneven texture - Loss of firmness and elasticity ',\n",
       "  'p_image': 'https://www.sephora.com/productimages/sku/s1851898-main-grid.jpg',\n",
       "  'p_link': 'https://www.sephora.com/product/magnetight-age-defier-P411254'},\n",
       " {'p_Brand': 'Peter Thomas Roth',\n",
       "  'p_Name': 'AHA/BHA Acne Clearing Gel',\n",
       "  'p_function': ' A potent oil-free formula that minimizes the appearance of blemishes',\n",
       "  'p_image': 'https://www.sephora.com/productimages/sku/s1451038-main-grid.jpg',\n",
       "  'p_link': 'https://www.sephora.com/product/aha-bha-acne-clearing-gel-P3550'}]"
      ]
     },
     "execution_count": 23,
     "metadata": {},
     "output_type": "execute_result"
    }
   ],
   "source": [
    "cache0 = product_df[product_df['p_ID'].isin(['P433970', 'P411254', 'P3550'])][['p_Brand', \n",
    "                                                                               'p_Name',\n",
    "                                                                               'p_function', \n",
    "                                                                               'p_link', \n",
    "                                                                               'p_image']]\n",
    "cache0.to_dict('records')"
   ]
  },
  {
   "cell_type": "code",
   "execution_count": 5,
   "metadata": {},
   "outputs": [],
   "source": [
    "review_join = review_df\n",
    "review_join['review'] = review_df['review'].map(lambda r:' '.join(r))"
   ]
  },
  {
   "cell_type": "code",
   "execution_count": 7,
   "metadata": {},
   "outputs": [],
   "source": [
    "fp = './bella/bellaflask/tmp/review_sentence_sentiment.df.pk'\n",
    "with open(fp, 'wb') as f:\n",
    "     pickle.dump(review_join, f)"
   ]
  },
  {
   "cell_type": "code",
   "execution_count": null,
   "metadata": {
    "collapsed": true
   },
   "outputs": [],
   "source": []
  }
 ],
 "metadata": {
  "kernelspec": {
   "display_name": "Python 3",
   "language": "python",
   "name": "python3"
  },
  "language_info": {
   "codemirror_mode": {
    "name": "ipython",
    "version": 3
   },
   "file_extension": ".py",
   "mimetype": "text/x-python",
   "name": "python",
   "nbconvert_exporter": "python",
   "pygments_lexer": "ipython3",
   "version": "3.7.2"
  }
 },
 "nbformat": 4,
 "nbformat_minor": 2
}
