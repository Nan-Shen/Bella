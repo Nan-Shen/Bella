{
 "cells": [
  {
   "cell_type": "code",
   "execution_count": 2,
   "metadata": {},
   "outputs": [
    {
     "data": {
      "text/plain": [
       "'en_core_web_md\\nRelease details\\nLatest: 2.0.0\\nInstallation\\n\\npython -m spacy download en_core_web_md\\n\\nEnglish multi-task CNN trained on OntoNotes, \\nwith GloVe vectors trained on Common Crawl.\\nAssigns word vectors, context-specific token vectors, \\nPOS tags, dependency parse and named entities.\\n'"
      ]
     },
     "execution_count": 2,
     "metadata": {},
     "output_type": "execute_result"
    }
   ],
   "source": [
    "import spacy\n",
    "#% python -m spacy download en_core_web_md\n",
    "\"\"\"en_core_web_md\n",
    "Release details\n",
    "Latest: 2.0.0\n",
    "Installation\n",
    "\n",
    "python -m spacy download en_core_web_md\n",
    "\n",
    "English multi-task CNN trained on OntoNotes, \n",
    "with GloVe vectors trained on Common Crawl.\n",
    "Assigns word vectors, context-specific token vectors, \n",
    "POS tags, dependency parse and named entities.\n",
    "\"\"\""
   ]
  },
  {
   "cell_type": "code",
   "execution_count": 6,
   "metadata": {},
   "outputs": [],
   "source": [
    "nlp = spacy.load('en_core_web_md')"
   ]
  },
  {
   "cell_type": "code",
   "execution_count": 8,
   "metadata": {},
   "outputs": [
    {
     "data": {
      "text/plain": [
       "['wrinkle',\n",
       " 'moisturizing',\n",
       " 'moisturizers',\n",
       " 'exfoliation',\n",
       " 'weightless',\n",
       " 'moisturize',\n",
       " 'cleanser',\n",
       " 'exfoliating',\n",
       " 'hydrating',\n",
       " 'exfoliate']"
      ]
     },
     "execution_count": 8,
     "metadata": {},
     "output_type": "execute_result"
    }
   ],
   "source": [
    "def similar_word(word, n_similar=10):\n",
    "    vector = nlp.vocab[word]\n",
    "    filtered_words = [w for w in vector.vocab if w.is_lower == vector.is_lower and w.prob >= -15]\n",
    "    similarity = sorted(filtered_words, key=lambda w: vector.similarity(w), reverse=True)\n",
    "    return [w.lower_ for w in similarity[:n_similar]]\n",
    "similar_word('wrinkle')"
   ]
  },
  {
   "cell_type": "markdown",
   "metadata": {},
   "source": [
    ">>> similar_word('wrinkle')\n",
    "['wrinkle', 'moisturizing', 'moisturizers', 'exfoliation', 'weightless', 'moisturize', 'cleanser', 'exfoliating', 'hydrating', 'exfoliate']\n",
    ">>> similar_word('wrinkle', 20)\n",
    "['wrinkle', 'moisturizing', 'moisturizers', 'exfoliation', 'weightless', 'moisturize', 'cleanser', 'exfoliating', 'hydrating', 'exfoliate', 'moisturizer', 'lotions', 'vera', 'balm', 'salve', 'lotion', 'vaseline', 'medicated', 'tanning', 'aloe']"
   ]
  },
  {
   "cell_type": "code",
   "execution_count": null,
   "metadata": {},
   "outputs": [],
   "source": []
  }
 ],
 "metadata": {
  "kernelspec": {
   "display_name": "Python 3",
   "language": "python",
   "name": "python3"
  },
  "language_info": {
   "codemirror_mode": {
    "name": "ipython",
    "version": 3
   },
   "file_extension": ".py",
   "mimetype": "text/x-python",
   "name": "python",
   "nbconvert_exporter": "python",
   "pygments_lexer": "ipython3",
   "version": "3.7.2"
  }
 },
 "nbformat": 4,
 "nbformat_minor": 2
}
